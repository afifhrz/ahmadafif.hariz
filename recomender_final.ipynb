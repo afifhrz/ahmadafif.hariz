{
 "cells": [
  {
   "cell_type": "code",
   "execution_count": 17,
   "metadata": {},
   "outputs": [],
   "source": [
    "import pandas as pd\n",
    "import numpy as np\n",
    "from sklearn.metrics.pairwise import cosine_similarity"
   ]
  },
  {
   "cell_type": "code",
   "execution_count": 18,
   "metadata": {},
   "outputs": [],
   "source": [
    "# membaca data\n",
    "header_names=['ItemID','UserID','Rating']\n",
    "df = pd.read_csv(\"Books Sorted.csv\",delimiter=',',header=None,names=header_names)"
   ]
  },
  {
   "cell_type": "code",
   "execution_count": 19,
   "metadata": {},
   "outputs": [
    {
     "data": {
      "text/plain": [
       "(48472, 3)"
      ]
     },
     "execution_count": 19,
     "metadata": {},
     "output_type": "execute_result"
    }
   ],
   "source": [
    "# menyeleksi user yang rajin memberikan rating\n",
    "combine_books_rating_user=df.dropna(axis=0,subset=['UserID'])\n",
    "books_ratingcount_user=(combine_books_rating_user.\n",
    "                  groupby(by=['UserID'])['Rating'].\n",
    "                  count().\n",
    "                  reset_index().\n",
    "                  rename(columns={'Rating':'totalRatingCountuser'})\n",
    "                  [['UserID','totalRatingCountuser']])\n",
    "rating_with_totalRatingCount_user=combine_books_rating_user.merge(books_ratingcount_user,left_on='UserID',right_on='UserID',how='left')\n",
    "#Ceritanya kita cuma meninjau user-user yang rajin rating dengan minimal memberikan rating sebesar rate_treshold_user\n",
    "rate_treshold_user=10\n",
    "rating_popular_book_user=rating_with_totalRatingCount_user.query('totalRatingCountuser>=@rate_treshold_user')\n",
    "rating_popular_books_user=rating_popular_book_user.drop(['totalRatingCountuser'],axis=1)\n",
    "rating_popular_books_user.shape"
   ]
  },
  {
   "cell_type": "code",
   "execution_count": 20,
   "metadata": {},
   "outputs": [
    {
     "data": {
      "text/plain": [
       "(32333, 3)"
      ]
     },
     "execution_count": 20,
     "metadata": {},
     "output_type": "execute_result"
    }
   ],
   "source": [
    "# menyeleksi item yang populer\n",
    "combine_books_rating_item=rating_popular_books_user.dropna(axis=0,subset=['ItemID'])\n",
    "books_ratingcount_item=(combine_books_rating_item.\n",
    "                  groupby(by=['ItemID'])['Rating'].\n",
    "                  count().\n",
    "                  reset_index().\n",
    "                  rename(columns={'Rating':'totalRatingCountitem'})\n",
    "                  [['ItemID','totalRatingCountitem']])\n",
    "rating_with_totalRatingCount_item=combine_books_rating_item.merge(books_ratingcount_item,left_on='ItemID',right_on='ItemID',how='left')\n",
    "#Ceritanya kita cuma meninjau buku-buku yang popular dengan minimal diberikan rating sebesar popularity_treshold_item\n",
    "popularity_treshold_item=20\n",
    "rating_popular_book_item=rating_with_totalRatingCount_item.query('totalRatingCountitem>=@popularity_treshold_item')\n",
    "rating_popular_books=rating_popular_book_item.drop(['totalRatingCountitem'],axis=1)\n",
    "rating_popular_books.shape"
   ]
  },
  {
   "cell_type": "code",
   "execution_count": 21,
   "metadata": {},
   "outputs": [],
   "source": [
    "# Menghitung rating yang diberikan user dengan rataan rating yang diberikan oleh user adalah 0\n",
    "Mean_user=rating_popular_books.groupby(by=\"UserID\",as_index=False)['Rating'].mean()\n",
    "Rating_avg=pd.merge(rating_popular_books,Mean_user,on='UserID')\n",
    "Rating_avg['adg_rating']=Rating_avg['Rating_x']-Rating_avg['Rating_y']"
   ]
  },
  {
   "cell_type": "code",
   "execution_count": 22,
   "metadata": {},
   "outputs": [],
   "source": [
    "#matrix User Item rata-rata di nol & matriks user item rating\n",
    "matrix_df=Rating_avg.pivot_table(index='UserID',columns='ItemID',values='Rating_x').fillna(0)\n",
    "books_matrix_df=Rating_avg.pivot_table(index='UserID',columns='ItemID',values='adg_rating').fillna(0)"
   ]
  },
  {
   "cell_type": "code",
   "execution_count": 23,
   "metadata": {},
   "outputs": [
    {
     "data": {
      "text/html": [
       "<div>\n",
       "<style scoped>\n",
       "    .dataframe tbody tr th:only-of-type {\n",
       "        vertical-align: middle;\n",
       "    }\n",
       "\n",
       "    .dataframe tbody tr th {\n",
       "        vertical-align: top;\n",
       "    }\n",
       "\n",
       "    .dataframe thead th {\n",
       "        text-align: right;\n",
       "    }\n",
       "</style>\n",
       "<table border=\"1\" class=\"dataframe\">\n",
       "  <thead>\n",
       "    <tr style=\"text-align: right;\">\n",
       "      <th>UserID</th>\n",
       "      <th>A102Z3T7NSM5KC</th>\n",
       "      <th>A103M7E0BSFC83</th>\n",
       "      <th>A105E427BB6J65</th>\n",
       "      <th>A10A1S5NAQBT21</th>\n",
       "      <th>A10BZSGALQPS0V</th>\n",
       "      <th>A10F2RGD2D36ZI</th>\n",
       "      <th>A10K3DLOEVMKW3</th>\n",
       "      <th>A10LKYQ1D8LPK8</th>\n",
       "      <th>A10LWBOIZCF2QT</th>\n",
       "      <th>A10Q15TOZBPR5N</th>\n",
       "      <th>...</th>\n",
       "      <th>AZ85B5Q1UEH5U</th>\n",
       "      <th>AZDCCMYLOEU3X</th>\n",
       "      <th>AZFX7FLEHCWXM</th>\n",
       "      <th>AZJHIRNFI04WK</th>\n",
       "      <th>AZK12FBX7X7LN</th>\n",
       "      <th>AZM9G2E1UMKRZ</th>\n",
       "      <th>AZP6KZVJIPROJ</th>\n",
       "      <th>AZPMV1PM3ISSL</th>\n",
       "      <th>AZQS0Y3RKFVIJ</th>\n",
       "      <th>AZUNT3QP2CWTL</th>\n",
       "    </tr>\n",
       "    <tr>\n",
       "      <th>UserID</th>\n",
       "      <th></th>\n",
       "      <th></th>\n",
       "      <th></th>\n",
       "      <th></th>\n",
       "      <th></th>\n",
       "      <th></th>\n",
       "      <th></th>\n",
       "      <th></th>\n",
       "      <th></th>\n",
       "      <th></th>\n",
       "      <th></th>\n",
       "      <th></th>\n",
       "      <th></th>\n",
       "      <th></th>\n",
       "      <th></th>\n",
       "      <th></th>\n",
       "      <th></th>\n",
       "      <th></th>\n",
       "      <th></th>\n",
       "      <th></th>\n",
       "      <th></th>\n",
       "    </tr>\n",
       "  </thead>\n",
       "  <tbody>\n",
       "    <tr>\n",
       "      <td>A102Z3T7NSM5KC</td>\n",
       "      <td>-2.0</td>\n",
       "      <td>0.0</td>\n",
       "      <td>0.0</td>\n",
       "      <td>0.0</td>\n",
       "      <td>0.0</td>\n",
       "      <td>0.0</td>\n",
       "      <td>0.000000</td>\n",
       "      <td>0.0</td>\n",
       "      <td>0.000000</td>\n",
       "      <td>0.0</td>\n",
       "      <td>...</td>\n",
       "      <td>0.0</td>\n",
       "      <td>0.0</td>\n",
       "      <td>0.0</td>\n",
       "      <td>0.0</td>\n",
       "      <td>0.0</td>\n",
       "      <td>0.0</td>\n",
       "      <td>0.0</td>\n",
       "      <td>-0.473326</td>\n",
       "      <td>0.0</td>\n",
       "      <td>0.0</td>\n",
       "    </tr>\n",
       "    <tr>\n",
       "      <td>A103M7E0BSFC83</td>\n",
       "      <td>0.0</td>\n",
       "      <td>-2.0</td>\n",
       "      <td>0.0</td>\n",
       "      <td>0.0</td>\n",
       "      <td>0.0</td>\n",
       "      <td>0.0</td>\n",
       "      <td>0.000000</td>\n",
       "      <td>0.0</td>\n",
       "      <td>0.000000</td>\n",
       "      <td>0.0</td>\n",
       "      <td>...</td>\n",
       "      <td>0.0</td>\n",
       "      <td>0.0</td>\n",
       "      <td>0.0</td>\n",
       "      <td>0.0</td>\n",
       "      <td>0.0</td>\n",
       "      <td>0.0</td>\n",
       "      <td>0.0</td>\n",
       "      <td>0.000000</td>\n",
       "      <td>0.0</td>\n",
       "      <td>0.0</td>\n",
       "    </tr>\n",
       "    <tr>\n",
       "      <td>A105E427BB6J65</td>\n",
       "      <td>0.0</td>\n",
       "      <td>0.0</td>\n",
       "      <td>-2.0</td>\n",
       "      <td>0.0</td>\n",
       "      <td>0.0</td>\n",
       "      <td>0.0</td>\n",
       "      <td>0.194701</td>\n",
       "      <td>0.0</td>\n",
       "      <td>0.000000</td>\n",
       "      <td>0.0</td>\n",
       "      <td>...</td>\n",
       "      <td>0.0</td>\n",
       "      <td>0.0</td>\n",
       "      <td>0.0</td>\n",
       "      <td>0.0</td>\n",
       "      <td>0.0</td>\n",
       "      <td>0.0</td>\n",
       "      <td>0.0</td>\n",
       "      <td>0.000000</td>\n",
       "      <td>0.0</td>\n",
       "      <td>0.0</td>\n",
       "    </tr>\n",
       "    <tr>\n",
       "      <td>A10A1S5NAQBT21</td>\n",
       "      <td>0.0</td>\n",
       "      <td>0.0</td>\n",
       "      <td>0.0</td>\n",
       "      <td>-2.0</td>\n",
       "      <td>0.0</td>\n",
       "      <td>0.0</td>\n",
       "      <td>0.000000</td>\n",
       "      <td>0.0</td>\n",
       "      <td>0.000000</td>\n",
       "      <td>0.0</td>\n",
       "      <td>...</td>\n",
       "      <td>0.0</td>\n",
       "      <td>0.0</td>\n",
       "      <td>0.0</td>\n",
       "      <td>0.0</td>\n",
       "      <td>0.0</td>\n",
       "      <td>0.0</td>\n",
       "      <td>0.0</td>\n",
       "      <td>0.000000</td>\n",
       "      <td>0.0</td>\n",
       "      <td>0.0</td>\n",
       "    </tr>\n",
       "    <tr>\n",
       "      <td>A10BZSGALQPS0V</td>\n",
       "      <td>0.0</td>\n",
       "      <td>0.0</td>\n",
       "      <td>0.0</td>\n",
       "      <td>0.0</td>\n",
       "      <td>-2.0</td>\n",
       "      <td>0.0</td>\n",
       "      <td>0.000000</td>\n",
       "      <td>0.0</td>\n",
       "      <td>0.154499</td>\n",
       "      <td>0.0</td>\n",
       "      <td>...</td>\n",
       "      <td>0.0</td>\n",
       "      <td>0.0</td>\n",
       "      <td>0.0</td>\n",
       "      <td>0.0</td>\n",
       "      <td>0.0</td>\n",
       "      <td>0.0</td>\n",
       "      <td>0.0</td>\n",
       "      <td>0.000000</td>\n",
       "      <td>0.0</td>\n",
       "      <td>0.0</td>\n",
       "    </tr>\n",
       "  </tbody>\n",
       "</table>\n",
       "<p>5 rows × 2588 columns</p>\n",
       "</div>"
      ],
      "text/plain": [
       "UserID          A102Z3T7NSM5KC  A103M7E0BSFC83  A105E427BB6J65  \\\n",
       "UserID                                                           \n",
       "A102Z3T7NSM5KC            -2.0             0.0             0.0   \n",
       "A103M7E0BSFC83             0.0            -2.0             0.0   \n",
       "A105E427BB6J65             0.0             0.0            -2.0   \n",
       "A10A1S5NAQBT21             0.0             0.0             0.0   \n",
       "A10BZSGALQPS0V             0.0             0.0             0.0   \n",
       "\n",
       "UserID          A10A1S5NAQBT21  A10BZSGALQPS0V  A10F2RGD2D36ZI  \\\n",
       "UserID                                                           \n",
       "A102Z3T7NSM5KC             0.0             0.0             0.0   \n",
       "A103M7E0BSFC83             0.0             0.0             0.0   \n",
       "A105E427BB6J65             0.0             0.0             0.0   \n",
       "A10A1S5NAQBT21            -2.0             0.0             0.0   \n",
       "A10BZSGALQPS0V             0.0            -2.0             0.0   \n",
       "\n",
       "UserID          A10K3DLOEVMKW3  A10LKYQ1D8LPK8  A10LWBOIZCF2QT  \\\n",
       "UserID                                                           \n",
       "A102Z3T7NSM5KC        0.000000             0.0        0.000000   \n",
       "A103M7E0BSFC83        0.000000             0.0        0.000000   \n",
       "A105E427BB6J65        0.194701             0.0        0.000000   \n",
       "A10A1S5NAQBT21        0.000000             0.0        0.000000   \n",
       "A10BZSGALQPS0V        0.000000             0.0        0.154499   \n",
       "\n",
       "UserID          A10Q15TOZBPR5N  ...  AZ85B5Q1UEH5U  AZDCCMYLOEU3X  \\\n",
       "UserID                          ...                                 \n",
       "A102Z3T7NSM5KC             0.0  ...            0.0            0.0   \n",
       "A103M7E0BSFC83             0.0  ...            0.0            0.0   \n",
       "A105E427BB6J65             0.0  ...            0.0            0.0   \n",
       "A10A1S5NAQBT21             0.0  ...            0.0            0.0   \n",
       "A10BZSGALQPS0V             0.0  ...            0.0            0.0   \n",
       "\n",
       "UserID          AZFX7FLEHCWXM  AZJHIRNFI04WK  AZK12FBX7X7LN  AZM9G2E1UMKRZ  \\\n",
       "UserID                                                                       \n",
       "A102Z3T7NSM5KC            0.0            0.0            0.0            0.0   \n",
       "A103M7E0BSFC83            0.0            0.0            0.0            0.0   \n",
       "A105E427BB6J65            0.0            0.0            0.0            0.0   \n",
       "A10A1S5NAQBT21            0.0            0.0            0.0            0.0   \n",
       "A10BZSGALQPS0V            0.0            0.0            0.0            0.0   \n",
       "\n",
       "UserID          AZP6KZVJIPROJ  AZPMV1PM3ISSL  AZQS0Y3RKFVIJ  AZUNT3QP2CWTL  \n",
       "UserID                                                                      \n",
       "A102Z3T7NSM5KC            0.0      -0.473326            0.0            0.0  \n",
       "A103M7E0BSFC83            0.0       0.000000            0.0            0.0  \n",
       "A105E427BB6J65            0.0       0.000000            0.0            0.0  \n",
       "A10A1S5NAQBT21            0.0       0.000000            0.0            0.0  \n",
       "A10BZSGALQPS0V            0.0       0.000000            0.0            0.0  \n",
       "\n",
       "[5 rows x 2588 columns]"
      ]
     },
     "execution_count": 23,
     "metadata": {},
     "output_type": "execute_result"
    }
   ],
   "source": [
    "# menghitung cosinus/similaritas antar user dalam matriks user-user\n",
    "cosine=cosine_similarity(books_matrix_df)\n",
    "np.fill_diagonal(cosine,-2)\n",
    "similarity_with_user=pd.DataFrame(cosine,index=books_matrix_df.index)\n",
    "similarity_with_user.columns=books_matrix_df.index\n",
    "similarity_with_user.head()"
   ]
  },
  {
   "cell_type": "code",
   "execution_count": 24,
   "metadata": {},
   "outputs": [],
   "source": [
    "# konvert dataframe yang akan digunakan untuk prediksi rating menjadi dictionary\n",
    "# Matriks rating\n",
    "R=matrix_df.to_dict(orient='index')\n",
    "RT=matrix_df.to_dict() #transposenya\n",
    "# Matriks rating dengan rataan di 0\n",
    "RM=books_matrix_df.to_dict(orient='index')\n",
    "#Matrix similaritas antar user\n",
    "U=similarity_with_user.to_dict(orient='index')\n",
    "# Rataan rating masing-masing user\n",
    "Ap=Mean_user.set_index('UserID').T.to_dict()\n",
    "A={}\n",
    "for i in Ap.keys():\n",
    "    for j in Ap[i].keys():\n",
    "        A[i]=Ap[i][j]"
   ]
  },
  {
   "cell_type": "code",
   "execution_count": 27,
   "metadata": {},
   "outputs": [
    {
     "name": "stdout",
     "output_type": "stream",
     "text": [
      "masukkan nilai K: 3\n"
     ]
    }
   ],
   "source": [
    "# Input nilai K maksimal adalah sebesar popularity_treshold_item-1\n",
    "K= int(input('masukkan nilai K: '))\n",
    "#memprediksi rating\n",
    "RP = {} #matriks rating prediksi\n",
    "I = {} #Siapa saja yang beli item ke-i\n",
    "Rm={} #prediksi rating yang sudah di rating\n",
    "for j in RT.keys():\n",
    "    I[j]=[]\n",
    "    for i in RT[j].keys():\n",
    "        if R[i][j]!=0:\n",
    "            I[j].append(i) #mengetahui user mana saja yang memberikan rating terhadap item-j\n",
    "for i in R.keys():\n",
    "    RP[i]={}\n",
    "    for j in R[i].keys():\n",
    "        if R[i][j]==0:\n",
    "            x = []\n",
    "            for k in I[j]:\n",
    "                x.append([k,U[i][k]]) #Menambahkan kode user serta similaritas user yang beli item ke-j\n",
    "            y=sorted(x,key=lambda x:x[1],reverse=True) # Mengurutkan sub-array yang ada di x berdasarkan nilai similaritas\n",
    "            s = 0\n",
    "            count=0\n",
    "            for k in range(min(K,len(x))):\n",
    "                m = y[k][0] #Input kode user\n",
    "                s = s + U[i][m]*RM[m][j] #Menghitung bagian pembilang pada rumus rating prediksi\n",
    "                count=count+abs(U[i][m]) #Menghitung bagian penyebut pada rumus rating prediksi\n",
    "            if count==0:\n",
    "                RP[i][j] = A[i] #jaga-jaga jika similaritas pengguna lain semuanya nol agar tidak terjadi pembagian dengan nol\n",
    "            else:\n",
    "                RP[i][j] = A[i]+s/count"
   ]
  },
  {
   "cell_type": "code",
   "execution_count": 30,
   "metadata": {},
   "outputs": [
    {
     "name": "stdout",
     "output_type": "stream",
     "text": [
      "masukkan UserID: A0192904YO1UGFMZVKRI\n"
     ]
    },
    {
     "ename": "KeyError",
     "evalue": "'A0192904YO1UGFMZVKRI'",
     "output_type": "error",
     "traceback": [
      "\u001b[1;31m---------------------------------------------------------------------------\u001b[0m",
      "\u001b[1;31mKeyError\u001b[0m                                  Traceback (most recent call last)",
      "\u001b[1;32m<ipython-input-30-fdde54a9cdae>\u001b[0m in \u001b[0;36m<module>\u001b[1;34m\u001b[0m\n\u001b[0;32m      1\u001b[0m \u001b[1;31m# Memberikan rekomendasi Item untuk suatu UserID tertentu\u001b[0m\u001b[1;33m\u001b[0m\u001b[1;33m\u001b[0m\u001b[1;33m\u001b[0m\u001b[0m\n\u001b[0;32m      2\u001b[0m \u001b[0mUserID\u001b[0m\u001b[1;33m=\u001b[0m \u001b[0mstr\u001b[0m\u001b[1;33m(\u001b[0m\u001b[0minput\u001b[0m\u001b[1;33m(\u001b[0m\u001b[1;34m'masukkan UserID: '\u001b[0m\u001b[1;33m)\u001b[0m\u001b[1;33m)\u001b[0m\u001b[1;33m\u001b[0m\u001b[1;33m\u001b[0m\u001b[0m\n\u001b[1;32m----> 3\u001b[1;33m \u001b[0mD\u001b[0m\u001b[1;33m=\u001b[0m\u001b[0mRP\u001b[0m\u001b[1;33m[\u001b[0m\u001b[0mUserID\u001b[0m\u001b[1;33m]\u001b[0m\u001b[1;33m\u001b[0m\u001b[1;33m\u001b[0m\u001b[0m\n\u001b[0m\u001b[0;32m      4\u001b[0m \u001b[0mL\u001b[0m\u001b[1;33m=\u001b[0m\u001b[0msorted\u001b[0m\u001b[1;33m(\u001b[0m\u001b[0mD\u001b[0m\u001b[1;33m.\u001b[0m\u001b[0mitems\u001b[0m\u001b[1;33m(\u001b[0m\u001b[1;33m)\u001b[0m\u001b[1;33m,\u001b[0m \u001b[0mkey\u001b[0m\u001b[1;33m=\u001b[0m\u001b[1;32mlambda\u001b[0m \u001b[0mkv\u001b[0m\u001b[1;33m:\u001b[0m\u001b[0mkv\u001b[0m\u001b[1;33m[\u001b[0m\u001b[1;36m1\u001b[0m\u001b[1;33m]\u001b[0m\u001b[1;33m,\u001b[0m\u001b[0mreverse\u001b[0m\u001b[1;33m=\u001b[0m\u001b[1;32mTrue\u001b[0m\u001b[1;33m)\u001b[0m\u001b[1;33m\u001b[0m\u001b[1;33m\u001b[0m\u001b[0m\n\u001b[0;32m      5\u001b[0m \u001b[0mprint\u001b[0m\u001b[1;33m(\u001b[0m\u001b[1;34m'Rekomendasi ItemID untuk UserID '\u001b[0m\u001b[1;33m,\u001b[0m\u001b[0mUserID\u001b[0m\u001b[1;33m,\u001b[0m\u001b[1;34m'adalah :'\u001b[0m\u001b[1;33m)\u001b[0m\u001b[1;33m\u001b[0m\u001b[1;33m\u001b[0m\u001b[0m\n",
      "\u001b[1;31mKeyError\u001b[0m: 'A0192904YO1UGFMZVKRI'"
     ]
    }
   ],
   "source": [
    "# Memberikan rekomendasi Item untuk suatu UserID tertentu\n",
    "UserID= str(input('masukkan UserID: '))\n",
    "D=RP[UserID]\n",
    "L=sorted(D.items(), key=lambda kv:kv[1],reverse=True)\n",
    "print('Rekomendasi ItemID untuk UserID ',UserID,'adalah :')\n",
    "for k in range(5):\n",
    "    print('Top',k+1,'-->',L[k][0])"
   ]
  },
  {
   "cell_type": "code",
   "execution_count": 11,
   "metadata": {},
   "outputs": [
    {
     "data": {
      "text/plain": [
       "0.578579454051359"
      ]
     },
     "execution_count": 11,
     "metadata": {},
     "output_type": "execute_result"
    }
   ],
   "source": [
    "# Menghitung nilai RMSE\n",
    "for i in R.keys():\n",
    "    Rm[i]={}\n",
    "    for j in R[i].keys():\n",
    "        if R[i][j]!=0:\n",
    "            x = []\n",
    "            for k in I[j]:\n",
    "                x.append([k,U[i][k]]) #Similaritas user2 yang beli item ke-j\n",
    "            y=sorted(x,key=lambda x:x[1],reverse=True)\n",
    "            s = 0\n",
    "            count=0\n",
    "            for k in range(min(K,len(x))):\n",
    "                m = y[k][0]\n",
    "                s = s + U[i][m]*RM[m][j]\n",
    "                count=count+abs(U[i][m])\n",
    "            if count==0:\n",
    "                Rm[i][j] = A[i]\n",
    "            else:\n",
    "                Rm[i][j] = A[i]+s/count\n",
    "N=0\n",
    "s=0\n",
    "for i in Rm.keys():\n",
    "    for j in Rm[i].keys():\n",
    "        s=s+(R[i][j]-Rm[i][j])**2\n",
    "        N=N+1\n",
    "RMSE=(s/N)**(0.5)\n",
    "RMSE"
   ]
  },
  {
   "cell_type": "code",
   "execution_count": 13,
   "metadata": {},
   "outputs": [
    {
     "data": {
      "text/plain": [
       "28342"
      ]
     },
     "execution_count": 13,
     "metadata": {},
     "output_type": "execute_result"
    }
   ],
   "source": []
  },
  {
   "cell_type": "code",
   "execution_count": null,
   "metadata": {},
   "outputs": [],
   "source": []
  }
 ],
 "metadata": {
  "kernelspec": {
   "display_name": "Python 3",
   "language": "python",
   "name": "python3"
  },
  "language_info": {
   "codemirror_mode": {
    "name": "ipython",
    "version": 3
   },
   "file_extension": ".py",
   "mimetype": "text/x-python",
   "name": "python",
   "nbconvert_exporter": "python",
   "pygments_lexer": "ipython3",
   "version": "3.7.4"
  }
 },
 "nbformat": 4,
 "nbformat_minor": 4
}
